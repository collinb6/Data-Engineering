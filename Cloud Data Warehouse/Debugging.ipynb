{
 "cells": [
  {
   "cell_type": "code",
   "execution_count": 1,
   "metadata": {
    "editable": true
   },
   "outputs": [],
   "source": [
    "import configparser\n",
    "import psycopg2"
   ]
  },
  {
   "cell_type": "code",
   "execution_count": 1,
   "metadata": {
    "editable": true
   },
   "outputs": [
    {
     "data": {
      "text/plain": [
       "123"
      ]
     },
     "execution_count": 1,
     "metadata": {},
     "output_type": "execute_result"
    }
   ],
   "source": [
    "########"
   ]
  },
  {
   "cell_type": "code",
   "execution_count": 9,
   "metadata": {
    "editable": true
   },
   "outputs": [
    {
     "data": {
      "text/plain": [
       "['dwh.cfg']"
      ]
     },
     "execution_count": 9,
     "metadata": {},
     "output_type": "execute_result"
    }
   ],
   "source": [
    "config = configparser.ConfigParser()\n",
    "config.read('dwh.cfg')"
   ]
  },
  {
   "cell_type": "code",
   "execution_count": 3,
   "metadata": {
    "editable": true
   },
   "outputs": [
    {
     "data": {
      "text/plain": [
       "['CLUSTER', 'IAM_ROLE', 'S3']"
      ]
     },
     "execution_count": 3,
     "metadata": {},
     "output_type": "execute_result"
    }
   ],
   "source": [
    "config.sections()"
   ]
  },
  {
   "cell_type": "code",
   "execution_count": 4,
   "metadata": {
    "editable": true
   },
   "outputs": [
    {
     "name": "stdout",
     "output_type": "stream",
     "text": [
      "host\n",
      "db_name\n",
      "db_user\n",
      "db_password\n",
      "db_port\n"
     ]
    }
   ],
   "source": [
    "for item in config['CLUSTER']:\n",
    "    print(item)"
   ]
  },
  {
   "cell_type": "code",
   "execution_count": 2,
   "metadata": {
    "editable": true
   },
   "outputs": [],
   "source": [
    "#(\"host={} dbname={} user={} password={} port={}\".format(*config['CLUSTER'].values()))"
   ]
  },
  {
   "cell_type": "code",
   "execution_count": 10,
   "metadata": {
    "editable": true
   },
   "outputs": [],
   "source": [
    "conn = psycopg2.connect(\"host={} dbname={} user={} password={} port={}\".format(*config['CLUSTER'].values()))\n",
    "cur = conn.cursor()"
   ]
  },
  {
   "cell_type": "code",
   "execution_count": 43,
   "metadata": {
    "editable": true
   },
   "outputs": [],
   "source": [
    "# execute to rollback a transaction, i.e. when postgresql throws an error\n",
    "cur.execute(\"rollback\");"
   ]
  },
  {
   "cell_type": "code",
   "execution_count": 7,
   "metadata": {
    "editable": true
   },
   "outputs": [
    {
     "data": {
      "text/plain": [
       "[('padb_config_harvest',),\n",
       " ('pg_aggregate',),\n",
       " ('pg_am',),\n",
       " ('pg_amop',),\n",
       " ('pg_amproc',)]"
      ]
     },
     "execution_count": 7,
     "metadata": {},
     "output_type": "execute_result"
    }
   ],
   "source": [
    "## run a simple query, to convince myself I'm actually connected to the redshift cluster\n",
    "query = \"\"\"\n",
    "SELECT DISTINCT tablename\n",
    "FROM pg_table_def limit 5\n",
    "\"\"\"\n",
    "cur.execute(query)\n",
    "\n",
    "\n",
    "cur.fetchall()"
   ]
  },
  {
   "cell_type": "code",
   "execution_count": 8,
   "metadata": {
    "editable": true
   },
   "outputs": [
    {
     "data": {
      "text/plain": [
       "[('pg_catalog.avg', 'int8_avg_accum', 'int8_avg', 1016, '{0,0}'),\n",
       " ('pg_catalog.avg', 'int4_avg_accum', 'int8_avg', 1016, '{0,0}'),\n",
       " ('pg_catalog.avg', 'int2_avg_accum', 'int8_avg', 1016, '{0,0}'),\n",
       " ('pg_catalog.avg', 'numeric_accum', 'numeric_avg', 1231, '{0,0,0}'),\n",
       " ('pg_catalog.avg', 'float4_accum', 'float8_avg', 1022, '{0,0,0}')]"
      ]
     },
     "execution_count": 8,
     "metadata": {},
     "output_type": "execute_result"
    }
   ],
   "source": [
    "## run a simple query, to convince myself I'm actually connected to the redshift cluster\n",
    "query = \"\"\" \n",
    "select *\n",
    "from pg_aggregate\n",
    "limit 5;\n",
    "\"\"\"\n",
    "cur.execute(query)\n",
    "\n",
    "\n",
    "cur.fetchall()"
   ]
  },
  {
   "cell_type": "code",
   "execution_count": 28,
   "metadata": {
    "editable": true
   },
   "outputs": [],
   "source": [
    "conn.commit()"
   ]
  },
  {
   "cell_type": "code",
   "execution_count": 3,
   "metadata": {
    "editable": true
   },
   "outputs": [
    {
     "data": {
      "text/plain": [
       "'Connected: dwhuser@dwh'"
      ]
     },
     "execution_count": 3,
     "metadata": {},
     "output_type": "execute_result"
    }
   ],
   "source": [
    "## Or connect using the sql extention\n",
    "DWH_ENDPOINT=\n",
    "DWH_DB=\n",
    "DWH_USER=\n",
    "DWH_DB_PASSWORD=\n",
    "DWH_PORT=\n",
    "%reload_ext sql\n",
    "conn_string=\"postgresql://{}:{}@{}:{}/{}\".format(DWH_USER, DWH_DB_PASSWORD, DWH_ENDPOINT, DWH_PORT,DWH_DB)\n",
    "%sql $conn_string"
   ]
  },
  {
   "cell_type": "code",
   "execution_count": 8,
   "metadata": {
    "editable": true
   },
   "outputs": [],
   "source": [
    "staging_events_table_create= (\"\"\"\n",
    "    CREATE TABLE IF NOT EXISTS staging_events (\n",
    "        event_id    BIGINT IDENTITY(0,1),\n",
    "        artist      VARCHAR,\n",
    "        auth        VARCHAR,\n",
    "        firstName   VARCHAR,\n",
    "        gender      VARCHAR,\n",
    "        itemInSession VARCHAR,\n",
    "        lastName    VARCHAR,\n",
    "        length      VARCHAR,\n",
    "        level       VARCHAR,\n",
    "        location    VARCHAR,\n",
    "        method      VARCHAR,\n",
    "        page        VARCHAR,\n",
    "        registration VARCHAR,\n",
    "        sessionId   INTEGER SORTKEY DISTKEY,\n",
    "        song        VARCHAR,\n",
    "        status      INTEGER,\n",
    "        ts          BIGINT,\n",
    "        userAgent   VARCHAR,\n",
    "        userId      INTEGER\n",
    "    );\n",
    "\"\"\")"
   ]
  },
  {
   "cell_type": "code",
   "execution_count": 10,
   "metadata": {
    "editable": true
   },
   "outputs": [
    {
     "data": {
      "text/plain": [
       "'\\n    CREATE TABLE IF NOT EXISTS staging_events (\\n        event_id    BIGINT IDENTITY(0,1),\\n        artist      VARCHAR,\\n        auth        VARCHAR,\\n        firstName   VARCHAR,\\n        gender      VARCHAR,\\n        itemInSession VARCHAR,\\n        lastName    VARCHAR,\\n        length      VARCHAR,\\n        level       VARCHAR,\\n        location    VARCHAR,\\n        method      VARCHAR,\\n        page        VARCHAR,\\n        registration VARCHAR,\\n        sessionId   INTEGER SORTKEY DISTKEY,\\n        song        VARCHAR,\\n        status      INTEGER,\\n        ts          BIGINT,\\n        userAgent   VARCHAR,\\n        userId      INTEGER\\n    );\\n'"
      ]
     },
     "execution_count": 10,
     "metadata": {},
     "output_type": "execute_result"
    }
   ],
   "source": [
    "staging_events_table_create"
   ]
  },
  {
   "cell_type": "code",
   "execution_count": 11,
   "metadata": {
    "editable": true
   },
   "outputs": [],
   "source": [
    "cur.execute(staging_events_table_create)\n",
    "conn.commit()"
   ]
  },
  {
   "cell_type": "code",
   "execution_count": 34,
   "metadata": {
    "editable": true
   },
   "outputs": [
    {
     "data": {
      "text/plain": [
       "[('public', 'staging_events', 'event_id', 'bigint', 'az64', False, 0, False),\n",
       " ('public',\n",
       "  'staging_events',\n",
       "  'artist',\n",
       "  'character varying(256)',\n",
       "  'lzo',\n",
       "  False,\n",
       "  0,\n",
       "  False),\n",
       " ('public',\n",
       "  'staging_events',\n",
       "  'auth',\n",
       "  'character varying(256)',\n",
       "  'lzo',\n",
       "  False,\n",
       "  0,\n",
       "  False),\n",
       " ('public',\n",
       "  'staging_events',\n",
       "  'firstname',\n",
       "  'character varying(256)',\n",
       "  'lzo',\n",
       "  False,\n",
       "  0,\n",
       "  False),\n",
       " ('public',\n",
       "  'staging_events',\n",
       "  'gender',\n",
       "  'character varying(256)',\n",
       "  'lzo',\n",
       "  False,\n",
       "  0,\n",
       "  False)]"
      ]
     },
     "execution_count": 34,
     "metadata": {},
     "output_type": "execute_result"
    }
   ],
   "source": [
    "cur.execute(\"rollback\");\n",
    "\n",
    "## check if my custom table actually exists\n",
    "query = \"\"\" \n",
    "select * from PG_TABLE_DEF where tablename = 'staging_events' limit 5;\n",
    "\"\"\"\n",
    "cur.execute(query)\n",
    "\n",
    "\n",
    "cur.fetchall()"
   ]
  },
  {
   "cell_type": "code",
   "execution_count": 84,
   "metadata": {
    "editable": true
   },
   "outputs": [],
   "source": []
  },
  {
   "cell_type": "code",
   "execution_count": 18,
   "metadata": {
    "editable": true
   },
   "outputs": [],
   "source": [
    "staging_songs_table_create = (\"\"\"\n",
    "    CREATE TABLE IF NOT EXISTS staging_songs (\n",
    "        artist_id VARCHAR,\n",
    "        artist_latitude FLOAT,\n",
    "        artist_location TEXT,\n",
    "        artist_longitude FLOAT,\n",
    "        artist_name VARCHAR,\n",
    "        duration FLOAT,\n",
    "        num_songs INT,\n",
    "        song_id VARCHAR,\n",
    "        title VARCHAR,\n",
    "        year INT\n",
    "    )\n",
    "\"\"\")"
   ]
  },
  {
   "cell_type": "code",
   "execution_count": 44,
   "metadata": {
    "editable": true
   },
   "outputs": [],
   "source": [
    "cur.execute(staging_songs_table_create)\n"
   ]
  },
  {
   "cell_type": "code",
   "execution_count": 3,
   "metadata": {
    "editable": true
   },
   "outputs": [
    {
     "name": "stderr",
     "output_type": "stream",
     "text": [
      "UsageError: Line magic function `%sql` not found.\n"
     ]
    }
   ],
   "source": [
    "## deleting a table\n",
    "qry = \"drop table staging_logs;\"\n",
    "%sql $qry\n"
   ]
  },
  {
   "cell_type": "code",
   "execution_count": 67,
   "metadata": {
    "editable": true
   },
   "outputs": [
    {
     "name": "stdout",
     "output_type": "stream",
     "text": [
      "\n",
      "    CREATE TABLE IF NOT EXISTS staging_logs (\n",
      "        artist VARCHAR,\n",
      "        auth VARCHAR,\n",
      "        firstName VARCHAR,\n",
      "        gender VARCHAR,\n",
      "        itemInSession INT,\n",
      "        lastName VARCHAR,\n",
      "        length FLOAT,\n",
      "        level VARCHAR,\n",
      "        location VARCHAR,\n",
      "        method VARCHAR,\n",
      "        page VARCHAR,\n",
      "        registration FLOAT,\n",
      "        sessionId INT,\n",
      "        song VARCHAR,\n",
      "        status INT,\n",
      "        ts BIGINT,\n",
      "        userAgent VARCHAR,\n",
      "        userId VARCHAR\n",
      "    )\n",
      "\n"
     ]
    }
   ],
   "source": [
    "#{\"artist\":null,\"auth\":\"Logged In\",\"firstName\":\"Walter\",\"gender\":\"M\",\"itemInSession\":0,\"lastName\":\"Frye\",\"length\":null,\"level\":\"free\",\"location\":\"San Francisco-Oakland-Hayward, CA\",\"method\":\"GET\",\"page\":\"Home\",\"registration\":1540919166796.0,\"sessionId\":38,\"song\":null,\"status\":200,\"ts\":1541105830796,\"userAgent\":\"\\\"Mozilla\\/5.0 (Macintosh; Intel Mac OS X 10_9_4) AppleWebKit\\/537.36 (KHTML, like Gecko) Chrome\\/36.0.1985.143 Safari\\/537.36\\\"\",\"userId\":\"39\"}\n",
    "\n",
    "staging_logs_table_create = (\"\"\"\n",
    "    CREATE TABLE IF NOT EXISTS staging_logs (\n",
    "        artist VARCHAR,\n",
    "        auth VARCHAR,\n",
    "        firstName VARCHAR,\n",
    "        gender VARCHAR,\n",
    "        itemInSession INT,\n",
    "        lastName VARCHAR,\n",
    "        length FLOAT,\n",
    "        level VARCHAR,\n",
    "        location VARCHAR,\n",
    "        method VARCHAR,\n",
    "        page VARCHAR,\n",
    "        registration FLOAT,\n",
    "        sessionId INT,\n",
    "        song VARCHAR,\n",
    "        status INT,\n",
    "        ts BIGINT,\n",
    "        userAgent VARCHAR,\n",
    "        userId VARCHAR\n",
    "    )\n",
    "\"\"\")\n",
    "\n",
    "print(staging_logs_table_create)"
   ]
  },
  {
   "cell_type": "code",
   "execution_count": 68,
   "metadata": {
    "editable": true
   },
   "outputs": [],
   "source": [
    "cur.execute(\"rollback\");\n",
    "cur.execute(staging_logs_table_create)"
   ]
  },
  {
   "cell_type": "code",
   "execution_count": 4,
   "metadata": {
    "editable": true
   },
   "outputs": [
    {
     "name": "stderr",
     "output_type": "stream",
     "text": [
      "UsageError: Line magic function `%sql` not found.\n"
     ]
    }
   ],
   "source": [
    "## check if my custom table actually exists\n",
    "qry = \"select * from staging_songs limit 3;\"\n",
    "%sql $qry"
   ]
  },
  {
   "cell_type": "code",
   "execution_count": 20,
   "metadata": {
    "editable": true
   },
   "outputs": [
    {
     "name": "stderr",
     "output_type": "stream",
     "text": [
      "UsageError: Line magic function `%sql` not found.\n"
     ]
    }
   ],
   "source": [
    "## check if my custom table actually exists\n",
    "qry = \"select * from PG_TABLE_DEF where tablename = 'staging_logs' ;\"\n",
    "%sql $qry\n"
   ]
  },
  {
   "cell_type": "code",
   "execution_count": 80,
   "metadata": {
    "editable": true
   },
   "outputs": [
    {
     "data": {
      "text/plain": [
       "\"'s3://udacity-dend/log_data'\""
      ]
     },
     "execution_count": 80,
     "metadata": {},
     "output_type": "execute_result"
    }
   ],
   "source": [
    "LOG_DATA = config.get(\"S3\", \"LOG_DATA\")\n",
    "LOG_DATA\n"
   ]
  },
  {
   "cell_type": "code",
   "execution_count": 107,
   "metadata": {
    "editable": true
   },
   "outputs": [],
   "source": [
    "ARN=\n",
    "SONG_DATA='s3://udacity-dend/song_data'\n",
    "SONG_DATA='s3://udacity-dend/song_data/A/A'\n",
    "LOG_DATA='s3://udacity-dend/log_data'"
   ]
  },
  {
   "cell_type": "code",
   "execution_count": 5,
   "metadata": {
    "editable": true
   },
   "outputs": [
    {
     "ename": "NameError",
     "evalue": "name 'SONG_DATA' is not defined",
     "output_type": "error",
     "traceback": [
      "\u001b[0;31m---------------------------------------------------------------------------\u001b[0m",
      "\u001b[0;31mNameError\u001b[0m                                 Traceback (most recent call last)",
      "\u001b[0;32m<ipython-input-5-47ba6f7ee504>\u001b[0m in \u001b[0;36m<module>\u001b[0;34m()\u001b[0m\n\u001b[1;32m      3\u001b[0m \u001b[0mregion\u001b[0m \u001b[0;34m'us-west-2'\u001b[0m\u001b[0;34m\u001b[0m\u001b[0m\n\u001b[1;32m      4\u001b[0m \u001b[0mjson\u001b[0m \u001b[0;34m'auto'\u001b[0m\u001b[0;34m\u001b[0m\u001b[0m\n\u001b[0;32m----> 5\u001b[0;31m \"\"\").format(SONG_DATA, ARN)\n\u001b[0m\u001b[1;32m      6\u001b[0m \u001b[0mprint\u001b[0m\u001b[0;34m(\u001b[0m\u001b[0mstaging_songs_copy\u001b[0m\u001b[0;34m)\u001b[0m\u001b[0;34m\u001b[0m\u001b[0m\n",
      "\u001b[0;31mNameError\u001b[0m: name 'SONG_DATA' is not defined"
     ]
    }
   ],
   "source": [
    "staging_songs_copy = (\"\"\"COPY staging_songs FROM '{}'\n",
    "credentials '{}'\n",
    "region 'us-west-2'\n",
    "json 'auto'\n",
    "\"\"\").format(SONG_DATA, ARN)\n",
    "print(staging_songs_copy)"
   ]
  },
  {
   "cell_type": "code",
   "execution_count": 6,
   "metadata": {
    "editable": true
   },
   "outputs": [
    {
     "ename": "NameError",
     "evalue": "name 'LOG_DATA' is not defined",
     "output_type": "error",
     "traceback": [
      "\u001b[0;31m---------------------------------------------------------------------------\u001b[0m",
      "\u001b[0;31mNameError\u001b[0m                                 Traceback (most recent call last)",
      "\u001b[0;32m<ipython-input-6-2432fe177339>\u001b[0m in \u001b[0;36m<module>\u001b[0;34m()\u001b[0m\n\u001b[1;32m      3\u001b[0m \u001b[0mregion\u001b[0m \u001b[0;34m'us-west-2'\u001b[0m\u001b[0;34m\u001b[0m\u001b[0m\n\u001b[1;32m      4\u001b[0m \u001b[0mjson\u001b[0m \u001b[0;34m'auto'\u001b[0m\u001b[0;34m\u001b[0m\u001b[0m\n\u001b[0;32m----> 5\u001b[0;31m \"\"\").format(LOG_DATA, ARN)\n\u001b[0m\u001b[1;32m      6\u001b[0m \u001b[0mprint\u001b[0m\u001b[0;34m(\u001b[0m\u001b[0mstaging_songs_copy\u001b[0m\u001b[0;34m)\u001b[0m\u001b[0;34m\u001b[0m\u001b[0m\n",
      "\u001b[0;31mNameError\u001b[0m: name 'LOG_DATA' is not defined"
     ]
    }
   ],
   "source": [
    "staging_logs_copy = (\"\"\"COPY staging_logs FROM '{}'\n",
    "credentials 'aws_iam_role={}'\n",
    "region 'us-west-2'\n",
    "json 'auto'\n",
    "\"\"\").format(LOG_DATA, ARN)\n",
    "print(staging_songs_copy)"
   ]
  },
  {
   "cell_type": "code",
   "execution_count": 71,
   "metadata": {
    "editable": true
   },
   "outputs": [],
   "source": [
    "cur.execute(staging_logs_copy)"
   ]
  },
  {
   "cell_type": "code",
   "execution_count": 7,
   "metadata": {
    "editable": true
   },
   "outputs": [
    {
     "name": "stderr",
     "output_type": "stream",
     "text": [
      "UsageError: Line magic function `%sql` not found.\n"
     ]
    }
   ],
   "source": [
    "qry = \"select * from staging_songs limit 5;\"\n",
    "%sql $qry"
   ]
  },
  {
   "cell_type": "code",
   "execution_count": 8,
   "metadata": {
    "editable": true
   },
   "outputs": [
    {
     "name": "stderr",
     "output_type": "stream",
     "text": [
      "UsageError: Line magic function `%sql` not found.\n"
     ]
    }
   ],
   "source": [
    "## results are easier to see using the ipython sql extension\n",
    "qry = \"select * from staging_logs limit 5\";\n",
    "%sql $qry"
   ]
  },
  {
   "cell_type": "code",
   "execution_count": 9,
   "metadata": {
    "editable": true
   },
   "outputs": [
    {
     "name": "stderr",
     "output_type": "stream",
     "text": [
      "UsageError: Line magic function `%sql` not found.\n"
     ]
    }
   ],
   "source": [
    "qry = \"select * from stl_load_errors limit 100;\"\n",
    "%sql $qry"
   ]
  },
  {
   "cell_type": "code",
   "execution_count": 91,
   "metadata": {
    "editable": true
   },
   "outputs": [],
   "source": [
    "from sql_queries import copy_table_queries"
   ]
  },
  {
   "cell_type": "code",
   "execution_count": 10,
   "metadata": {
    "editable": true
   },
   "outputs": [
    {
     "ename": "NameError",
     "evalue": "name 'copy_table_queries' is not defined",
     "output_type": "error",
     "traceback": [
      "\u001b[0;31m---------------------------------------------------------------------------\u001b[0m",
      "\u001b[0;31mNameError\u001b[0m                                 Traceback (most recent call last)",
      "\u001b[0;32m<ipython-input-10-78c930e68ce0>\u001b[0m in \u001b[0;36m<module>\u001b[0;34m()\u001b[0m\n\u001b[0;32m----> 1\u001b[0;31m \u001b[0;32mfor\u001b[0m \u001b[0mi\u001b[0m \u001b[0;32min\u001b[0m \u001b[0mcopy_table_queries\u001b[0m\u001b[0;34m:\u001b[0m\u001b[0;34m\u001b[0m\u001b[0m\n\u001b[0m\u001b[1;32m      2\u001b[0m     \u001b[0mprint\u001b[0m\u001b[0;34m(\u001b[0m\u001b[0mi\u001b[0m\u001b[0;34m)\u001b[0m\u001b[0;34m\u001b[0m\u001b[0m\n",
      "\u001b[0;31mNameError\u001b[0m: name 'copy_table_queries' is not defined"
     ]
    }
   ],
   "source": [
    "for i in copy_table_queries:\n",
    "    print(i)"
   ]
  },
  {
   "cell_type": "code",
   "execution_count": null,
   "metadata": {
    "editable": true
   },
   "outputs": [],
   "source": [
    "########################################################################\n",
    "# STAR SCHEMA"
   ]
  },
  {
   "cell_type": "code",
   "execution_count": 14,
   "metadata": {
    "editable": true
   },
   "outputs": [],
   "source": [
    "\n",
    "user_table_create = (\"\"\"\n",
    "    CREATE TABLE IF NOT EXISTS users (\n",
    "        user_id VARCHAR, \n",
    "        first_name VARCHAR, \n",
    "        last_name VARCHAR, \n",
    "        gender VARCHAR, \n",
    "        level VARCHAR\n",
    "    )\n",
    "\"\"\")"
   ]
  },
  {
   "cell_type": "code",
   "execution_count": 15,
   "metadata": {
    "editable": true
   },
   "outputs": [],
   "source": [
    "cur.execute(\"rollback\");\n",
    "cur.execute(user_table_create)"
   ]
  },
  {
   "cell_type": "code",
   "execution_count": 11,
   "metadata": {
    "editable": true
   },
   "outputs": [
    {
     "name": "stderr",
     "output_type": "stream",
     "text": [
      "UsageError: Line magic function `%sql` not found.\n"
     ]
    }
   ],
   "source": [
    "## check if my custom table actually exists\n",
    "qry = \"select * from PG_TABLE_DEF where tablename = 'users' ;\"\n",
    "%sql $qry"
   ]
  },
  {
   "cell_type": "code",
   "execution_count": 12,
   "metadata": {
    "editable": true
   },
   "outputs": [
    {
     "name": "stderr",
     "output_type": "stream",
     "text": [
      "UsageError: Line magic function `%sql` not found.\n"
     ]
    }
   ],
   "source": [
    "qry = \"insert into users select distinct userid,firstname,lastname,gender,level from staging_events;\"\n",
    "%sql $qry"
   ]
  },
  {
   "cell_type": "code",
   "execution_count": 13,
   "metadata": {
    "editable": true
   },
   "outputs": [
    {
     "name": "stderr",
     "output_type": "stream",
     "text": [
      "UsageError: Line magic function `%sql` not found.\n"
     ]
    }
   ],
   "source": [
    "qry = \"select * from users limit 2;\"\n",
    "%sql $qry"
   ]
  },
  {
   "cell_type": "code",
   "execution_count": 23,
   "metadata": {
    "editable": true
   },
   "outputs": [],
   "source": []
  },
  {
   "cell_type": "code",
   "execution_count": 24,
   "metadata": {
    "editable": true
   },
   "outputs": [],
   "source": []
  },
  {
   "cell_type": "code",
   "execution_count": null,
   "metadata": {
    "editable": true
   },
   "outputs": [],
   "source": []
  },
  {
   "cell_type": "code",
   "execution_count": 14,
   "metadata": {
    "editable": true
   },
   "outputs": [
    {
     "name": "stderr",
     "output_type": "stream",
     "text": [
      "UsageError: Line magic function `%sql` not found.\n"
     ]
    }
   ],
   "source": [
    "qry = \"select * from staging_events limit 2;\"\n",
    "%sql $qry"
   ]
  },
  {
   "cell_type": "code",
   "execution_count": 15,
   "metadata": {
    "editable": true
   },
   "outputs": [
    {
     "ename": "NameError",
     "evalue": "name 'cur' is not defined",
     "output_type": "error",
     "traceback": [
      "\u001b[0;31m---------------------------------------------------------------------------\u001b[0m",
      "\u001b[0;31mNameError\u001b[0m                                 Traceback (most recent call last)",
      "\u001b[0;32m<ipython-input-15-19601f2caf7a>\u001b[0m in \u001b[0;36m<module>\u001b[0;34m()\u001b[0m\n\u001b[1;32m      8\u001b[0m     )\n\u001b[1;32m      9\u001b[0m \"\"\")\n\u001b[0;32m---> 10\u001b[0;31m \u001b[0mcur\u001b[0m\u001b[0;34m.\u001b[0m\u001b[0mexecute\u001b[0m\u001b[0;34m(\u001b[0m\u001b[0;34m\"rollback\"\u001b[0m\u001b[0;34m)\u001b[0m\u001b[0;34m;\u001b[0m\u001b[0;34m\u001b[0m\u001b[0m\n\u001b[0m\u001b[1;32m     11\u001b[0m \u001b[0mcur\u001b[0m\u001b[0;34m.\u001b[0m\u001b[0mexecute\u001b[0m\u001b[0;34m(\u001b[0m\u001b[0martists_table_create\u001b[0m\u001b[0;34m)\u001b[0m\u001b[0;34m\u001b[0m\u001b[0m\n\u001b[1;32m     12\u001b[0m \u001b[0mqry\u001b[0m \u001b[0;34m=\u001b[0m \u001b[0;34m\"select * from artists limit 1;\"\u001b[0m\u001b[0;34m\u001b[0m\u001b[0m\n",
      "\u001b[0;31mNameError\u001b[0m: name 'cur' is not defined"
     ]
    }
   ],
   "source": [
    "artists_table_create = (\"\"\"\n",
    "    CREATE TABLE IF NOT EXISTS artists (\n",
    "        artist_id VARCHAR, \n",
    "        name VARCHAR, \n",
    "        location VARCHAR, \n",
    "        lattitude VARCHAR, \n",
    "        longitude VARCHAR\n",
    "    )\n",
    "\"\"\")\n",
    "cur.execute(\"rollback\");\n",
    "cur.execute(artists_table_create)\n",
    "qry = \"select * from artists limit 1;\"\n",
    "%sql $qry"
   ]
  },
  {
   "cell_type": "code",
   "execution_count": 16,
   "metadata": {
    "editable": true
   },
   "outputs": [
    {
     "name": "stderr",
     "output_type": "stream",
     "text": [
      "UsageError: Line magic function `%sql` not found.\n"
     ]
    }
   ],
   "source": [
    "qry = \"insert into artists select distinct artist_id, artist_name, artist_location, artist_latitude, artist_longitude from staging_songs;\"\n",
    "%sql $qry"
   ]
  },
  {
   "cell_type": "code",
   "execution_count": 17,
   "metadata": {
    "editable": true
   },
   "outputs": [
    {
     "name": "stderr",
     "output_type": "stream",
     "text": [
      "UsageError: Line magic function `%sql` not found.\n"
     ]
    }
   ],
   "source": [
    "qry = \"select * from artists limit 5;\"\n",
    "%sql $qry"
   ]
  },
  {
   "cell_type": "code",
   "execution_count": null,
   "metadata": {
    "editable": true
   },
   "outputs": [],
   "source": [
    "songs - songs in music database\n",
    "song_id, title, artist_id, year, duration\n",
    "\n",
    "artists - artists in music database\n",
    "artist_id, name, location, lattitude, longitude\n",
    "\n",
    "time - timestamps of records in songplays broken down into specific units\n",
    "start_time, hour, day, week, month, year, weekday"
   ]
  },
  {
   "cell_type": "code",
   "execution_count": 18,
   "metadata": {
    "editable": true
   },
   "outputs": [
    {
     "name": "stderr",
     "output_type": "stream",
     "text": [
      "UsageError: Line magic function `%sql` not found.\n"
     ]
    }
   ],
   "source": [
    "qry = \"select * from staging_songs limit 1;\"\n",
    "%sql $qry"
   ]
  },
  {
   "cell_type": "code",
   "execution_count": 28,
   "metadata": {
    "editable": true
   },
   "outputs": [],
   "source": [
    "song_table_create = (\"\"\"\n",
    "    CREATE TABLE IF NOT EXISTS songs (\n",
    "        song_id VARCHAR, \n",
    "        title VARCHAR, \n",
    "        artist_id VARCHAR, \n",
    "        year VARCHAR\n",
    "    )\n",
    "\"\"\")"
   ]
  },
  {
   "cell_type": "code",
   "execution_count": 29,
   "metadata": {
    "editable": true
   },
   "outputs": [],
   "source": [
    "cur.execute(\"rollback\");\n",
    "cur.execute(song_table_create)"
   ]
  },
  {
   "cell_type": "code",
   "execution_count": 19,
   "metadata": {
    "editable": true
   },
   "outputs": [
    {
     "name": "stderr",
     "output_type": "stream",
     "text": [
      "UsageError: Line magic function `%sql` not found.\n"
     ]
    }
   ],
   "source": [
    "#song_id, title, artist_id, year, duration\n",
    "qry= \"insert into songs select song_id, title, year, duration from staging_songs\"\n",
    "%sql $qry"
   ]
  }
 ],
 "metadata": {
  "kernelspec": {
   "display_name": "Python 3",
   "language": "python",
   "name": "python3"
  },
  "language_info": {
   "codemirror_mode": {
    "name": "ipython",
    "version": 3
   },
   "file_extension": ".py",
   "mimetype": "text/x-python",
   "name": "python",
   "nbconvert_exporter": "python",
   "pygments_lexer": "ipython3",
   "version": "3.6.3"
  }
 },
 "nbformat": 4,
 "nbformat_minor": 4
}
