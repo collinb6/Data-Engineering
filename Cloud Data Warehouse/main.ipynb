{
 "cells": [
  {
   "cell_type": "code",
   "execution_count": 1,
   "metadata": {
    "editable": true
   },
   "outputs": [
    {
     "name": "stdout",
     "output_type": "stream",
     "text": [
      "running drop tables\n",
      "running drop tables\n",
      "running drop tables\n",
      "running drop tables\n",
      "running drop tables\n",
      "running drop tables\n",
      "running create tables\n",
      "running create tables\n",
      "running create tables\n",
      "running create tables\n",
      "running create tables\n",
      "running create tables\n",
      "running create tables\n"
     ]
    }
   ],
   "source": [
    "%run -i 'create_tables.py'"
   ]
  },
  {
   "cell_type": "code",
   "execution_count": 2,
   "metadata": {
    "editable": true
   },
   "outputs": [
    {
     "name": "stdout",
     "output_type": "stream",
     "text": [
      "copying from s3 into staging table\n",
      "copying from s3 into staging table\n",
      "inserting data into star schema table\n",
      "inserting data into star schema table\n",
      "inserting data into star schema table\n",
      "inserting data into star schema table\n",
      "inserting data into star schema table\n"
     ]
    }
   ],
   "source": [
    "%run -i 'etl.py'"
   ]
  }
 ],
 "metadata": {
  "kernelspec": {
   "display_name": "Python 3",
   "language": "python",
   "name": "python3"
  },
  "language_info": {
   "codemirror_mode": {
    "name": "ipython",
    "version": 3
   },
   "file_extension": ".py",
   "mimetype": "text/x-python",
   "name": "python",
   "nbconvert_exporter": "python",
   "pygments_lexer": "ipython3",
   "version": "3.6.3"
  }
 },
 "nbformat": 4,
 "nbformat_minor": 4
}
